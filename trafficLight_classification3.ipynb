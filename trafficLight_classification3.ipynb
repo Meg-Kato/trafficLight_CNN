{
 "cells": [
  {
   "cell_type": "code",
   "execution_count": 1,
   "metadata": {},
   "outputs": [],
   "source": [
    "import cv2\n",
    "import glob\n",
    "import re\n",
    "from PIL import Image\n",
    "import numpy as np"
   ]
  },
  {
   "cell_type": "code",
   "execution_count": 2,
   "metadata": {},
   "outputs": [],
   "source": [
    "def preprocess(img):\n",
    "    h, w, c = img.shape\n",
    "    longest_edge = max(h, w)\n",
    "    top = 0\n",
    "    bottom = 0\n",
    "    left = 0\n",
    "    right = 0\n",
    "    if h < longest_edge:\n",
    "        diff_h = longest_edge - h\n",
    "        top = diff_h // 2\n",
    "        bottom = diff_h - top\n",
    "    elif w < longest_edge:\n",
    "        diff_w = longest_edge - w\n",
    "        left = diff_w // 2\n",
    "        right = diff_w - left\n",
    "    else:\n",
    "        pass\n",
    "    \n",
    "    img = cv2.copyMakeBorder(img, top, bottom, left, right,\n",
    "                             cv2.BORDER_CONSTANT, value=[0, 0, 0])\n",
    "    return img\n",
    "\n",
    "def numericalSort(value):\n",
    "    numbers = re.compile(r'(\\d+)')\n",
    "    parts = numbers.split(value)\n",
    "    parts[1::2] = map(int, parts[1::2])\n",
    "    return parts\n",
    "\n",
    "def get_img_path(dir_name:str):\n",
    "    files = f\"{dir_name}/\"\n",
    "    img_path = sorted(glob.glob(str(files+\"*.jpg\")), key=numericalSort)\n",
    "    return img_path           "
   ]
  },
  {
   "cell_type": "code",
   "execution_count": 19,
   "metadata": {},
   "outputs": [],
   "source": [
    "img_path = get_img_path(\"../../img_data/rectangle/trafficLightImg3\")\n",
    "i=1\n",
    "for file in img_path:\n",
    "    img = cv2.imread(file)\n",
    "    img = preprocess(img)\n",
    "    img = cv2.resize(img, dsize=(32, 32))\n",
    "    cv2.imwrite(\"../../img_data/rectangle/preprocessImg3/\"+str(i)+\".jpg\", img)\n",
    "    i+=1"
   ]
  },
  {
   "cell_type": "code",
   "execution_count": null,
   "metadata": {},
   "outputs": [],
   "source": []
  },
  {
   "cell_type": "code",
   "execution_count": 4,
   "metadata": {},
   "outputs": [
    {
     "name": "stderr",
     "output_type": "stream",
     "text": [
      "Using TensorFlow backend.\n"
     ]
    }
   ],
   "source": [
    "import keras\n",
    "from keras.preprocessing.image import load_img, save_img, img_to_array, array_to_img\n",
    "from sklearn.model_selection import train_test_split\n",
    "import csv\n",
    "import pandas as pd"
   ]
  },
  {
   "cell_type": "code",
   "execution_count": 20,
   "metadata": {},
   "outputs": [],
   "source": [
    "preprocess_path = get_img_path(\"../../img_data/rectangle/preprocessImg3\")\n",
    "x_train_path, x_test_path = train_test_split(preprocess_path, test_size=0.2, shuffle=False)"
   ]
  },
  {
   "cell_type": "code",
   "execution_count": 21,
   "metadata": {},
   "outputs": [],
   "source": [
    "x_train = np.zeros((len(x_train_path),32*32*3))\n",
    "for i in range(len(x_train_path)):\n",
    "    x_train[i] = np.array(Image.open(x_train_path[i])).reshape(1, 32*32*3)\n",
    "x_train = x_train.reshape(len(x_train_path), 32, 32, 3)\n",
    "\n",
    "x_test= np.zeros((len(x_test_path),32*32*3))\n",
    "for i in range(len(x_test_path)):\n",
    "    x_test[i] = np.array(Image.open(x_test_path[i])).reshape(1, 32*32*3)\n",
    "x_test = x_test.reshape(len(x_test_path), 32, 32, 3)\n",
    "\n",
    "df = pd.read_csv(\"trafficLight_class3.csv\", header=0, usecols=['label'])\n",
    "\n",
    "y_label = np.zeros(df.values.shape[0])\n",
    "for j in range(df.values.shape[0]):\n",
    "    y_label[j] = df.values[j]\n",
    "\n",
    "# label={0:green, 1:red, 2:car, 3:others}\n",
    "y_train, y_test = train_test_split(y_label, test_size=0.2, shuffle=False)"
   ]
  },
  {
   "cell_type": "code",
   "execution_count": null,
   "metadata": {},
   "outputs": [],
   "source": []
  },
  {
   "cell_type": "code",
   "execution_count": 22,
   "metadata": {},
   "outputs": [],
   "source": [
    "from keras.preprocessing.image import ImageDataGenerator\n",
    "from keras.applications.inception_v3 import preprocess_input\n",
    "import os"
   ]
  },
  {
   "cell_type": "code",
   "execution_count": 23,
   "metadata": {},
   "outputs": [],
   "source": [
    "batch_size = 64\n",
    "num_classes = 4\n",
    "epochs = 50"
   ]
  },
  {
   "cell_type": "code",
   "execution_count": 24,
   "metadata": {},
   "outputs": [],
   "source": [
    "Y_train = keras.utils.to_categorical(y_train, num_classes)\n",
    "Y_test = keras.utils.to_categorical(y_test, num_classes)\n",
    "\n",
    "train_datagen = ImageDataGenerator(preprocessing_function=preprocess_input,\n",
    "                                   rotation_range=30,\n",
    "                                   width_shift_range=0.2,\n",
    "                                   height_shift_range=0.2,\n",
    "                                   zoom_range=0.2,\n",
    "                                   horizontal_flip=True)\n",
    "train_datagen.fit(x_train)\n",
    "train_generator = train_datagen.flow(x_train, Y_train, batch_size=batch_size)\n",
    "\n",
    "test_datagen = ImageDataGenerator(rescale=1./255)\n",
    "test_datagen.fit(x_test)\n",
    "validation_generator = test_datagen.flow(x_test,\n",
    "                                         Y_test,\n",
    "                                         batch_size=batch_size,)\n",
    "\n",
    "data_augumentaion = True\n",
    "num_predictions = 20\n",
    "save_dir  = os.path.join(os.getcwd(), 'save_models')\n",
    "model_name ='trafficLight_classification3.h5'"
   ]
  },
  {
   "cell_type": "code",
   "execution_count": null,
   "metadata": {},
   "outputs": [],
   "source": []
  },
  {
   "cell_type": "code",
   "execution_count": 25,
   "metadata": {},
   "outputs": [],
   "source": [
    "from keras import backend as K\n",
    "from keras.models import Sequential, Model\n",
    "from keras.layers import Conv2D, Activation, MaxPooling2D, Dense, Flatten, Dropout, BatchNormalization\n",
    "from keras.optimizers import rmsprop"
   ]
  },
  {
   "cell_type": "code",
   "execution_count": 26,
   "metadata": {},
   "outputs": [],
   "source": [
    "model = Sequential()\n",
    "model.add(Conv2D(64, (4,4), padding='same', input_shape=x_train.shape[1:]))\n",
    "model.add(Activation('relu'))\n",
    "model.add(MaxPooling2D((2,2)))\n",
    "\n",
    "# model.add(Conv2D(64, (4,4), padding='same'))\n",
    "# model.add(Activation('relu'))\n",
    "# model.add(MaxPooling2D((2,2)))\n",
    "model.add(BatchNormalization())\n",
    "\n",
    "# model.add(Conv2D(128, (4,4), padding='same'))\n",
    "# model.add(Activation('relu'))\n",
    "# model.add(BatchNormalization())\n",
    "\n",
    "model.add(Flatten())\n",
    "model.add(Dense(32))\n",
    "model.add(Activation('relu'))\n",
    "model.add(Dropout(0.5))\n",
    "model.add(Dense(num_classes))\n",
    "model.add(Activation('softmax'))\n",
    "\n",
    "# opt = keras.optimizers.rmsprop(lr=0.0001, decay=1e-6)\n",
    "opt = keras.optimizers.rmsprop()\n",
    "model.compile(loss='categorical_crossentropy',\n",
    "              optimizer=opt,\n",
    "              metrics=['accuracy'])"
   ]
  },
  {
   "cell_type": "code",
   "execution_count": 27,
   "metadata": {},
   "outputs": [
    {
     "name": "stdout",
     "output_type": "stream",
     "text": [
      "Train on 2400 samples, validate on 600 samples\n",
      "Epoch 1/50\n",
      "2400/2400 [==============================] - 1s 518us/step - loss: 1.5588 - acc: 0.5675 - val_loss: 0.7140 - val_acc: 0.7467\n",
      "Epoch 2/50\n",
      "2400/2400 [==============================] - 0s 60us/step - loss: 0.7750 - acc: 0.6875 - val_loss: 0.5406 - val_acc: 0.8517\n",
      "Epoch 3/50\n",
      "2400/2400 [==============================] - 0s 63us/step - loss: 0.6787 - acc: 0.7342 - val_loss: 0.4021 - val_acc: 0.8783\n",
      "Epoch 4/50\n",
      "2400/2400 [==============================] - 0s 60us/step - loss: 0.5929 - acc: 0.7875 - val_loss: 0.4403 - val_acc: 0.8550\n",
      "Epoch 5/50\n",
      "2400/2400 [==============================] - 0s 53us/step - loss: 0.5020 - acc: 0.8137 - val_loss: 0.3925 - val_acc: 0.8900\n",
      "Epoch 6/50\n",
      "2400/2400 [==============================] - 0s 50us/step - loss: 0.4808 - acc: 0.8283 - val_loss: 0.4039 - val_acc: 0.8917\n",
      "Epoch 7/50\n",
      "2400/2400 [==============================] - 0s 52us/step - loss: 0.4550 - acc: 0.8429 - val_loss: 0.4916 - val_acc: 0.8483\n",
      "Epoch 8/50\n",
      "2400/2400 [==============================] - 0s 50us/step - loss: 0.4231 - acc: 0.8475 - val_loss: 0.4290 - val_acc: 0.8983\n",
      "Epoch 9/50\n",
      "2400/2400 [==============================] - 0s 51us/step - loss: 0.4170 - acc: 0.8433 - val_loss: 0.4139 - val_acc: 0.9067\n",
      "Epoch 10/50\n",
      "2400/2400 [==============================] - 0s 55us/step - loss: 0.3906 - acc: 0.8467 - val_loss: 0.3515 - val_acc: 0.8917\n",
      "Epoch 11/50\n",
      "2400/2400 [==============================] - 0s 54us/step - loss: 0.3893 - acc: 0.8612 - val_loss: 0.3014 - val_acc: 0.9167\n",
      "Epoch 12/50\n",
      "2400/2400 [==============================] - 0s 52us/step - loss: 0.3472 - acc: 0.8575 - val_loss: 0.3393 - val_acc: 0.9233\n",
      "Epoch 13/50\n",
      "2400/2400 [==============================] - 0s 55us/step - loss: 0.3595 - acc: 0.8596 - val_loss: 0.2620 - val_acc: 0.9367\n",
      "Epoch 14/50\n",
      "2400/2400 [==============================] - 0s 54us/step - loss: 0.3583 - acc: 0.8667 - val_loss: 0.3764 - val_acc: 0.9000\n",
      "Epoch 15/50\n",
      "2400/2400 [==============================] - 0s 54us/step - loss: 0.3346 - acc: 0.8671 - val_loss: 0.3072 - val_acc: 0.9233\n",
      "Epoch 16/50\n",
      "2400/2400 [==============================] - 0s 56us/step - loss: 0.3300 - acc: 0.8733 - val_loss: 0.5664 - val_acc: 0.9000\n",
      "Epoch 17/50\n",
      "2400/2400 [==============================] - 0s 55us/step - loss: 0.3113 - acc: 0.8796 - val_loss: 0.2757 - val_acc: 0.9417\n",
      "Epoch 18/50\n",
      "2400/2400 [==============================] - 0s 56us/step - loss: 0.3190 - acc: 0.8796 - val_loss: 0.3018 - val_acc: 0.9333\n",
      "Epoch 19/50\n",
      "2400/2400 [==============================] - 0s 54us/step - loss: 0.3078 - acc: 0.8879 - val_loss: 0.4573 - val_acc: 0.8983\n",
      "Epoch 20/50\n",
      "2400/2400 [==============================] - 0s 56us/step - loss: 0.2923 - acc: 0.8912 - val_loss: 0.2472 - val_acc: 0.9450\n",
      "Epoch 21/50\n",
      "2400/2400 [==============================] - 0s 57us/step - loss: 0.2810 - acc: 0.8863 - val_loss: 0.3665 - val_acc: 0.9200\n",
      "Epoch 22/50\n",
      "2400/2400 [==============================] - 0s 57us/step - loss: 0.2944 - acc: 0.8879 - val_loss: 0.2589 - val_acc: 0.9333\n",
      "Epoch 23/50\n",
      "2400/2400 [==============================] - 0s 58us/step - loss: 0.2767 - acc: 0.8867 - val_loss: 0.3085 - val_acc: 0.9233\n",
      "Epoch 24/50\n",
      "2400/2400 [==============================] - 0s 57us/step - loss: 0.2651 - acc: 0.8971 - val_loss: 0.3536 - val_acc: 0.9400\n",
      "Epoch 25/50\n",
      "2400/2400 [==============================] - 0s 57us/step - loss: 0.3159 - acc: 0.8942 - val_loss: 0.3943 - val_acc: 0.9183\n",
      "Epoch 26/50\n",
      "2400/2400 [==============================] - 0s 59us/step - loss: 0.2758 - acc: 0.8925 - val_loss: 0.3193 - val_acc: 0.9367\n",
      "Epoch 27/50\n",
      "2400/2400 [==============================] - 0s 60us/step - loss: 0.2979 - acc: 0.8896 - val_loss: 0.3190 - val_acc: 0.9467\n",
      "Epoch 28/50\n",
      "2400/2400 [==============================] - 0s 57us/step - loss: 0.2698 - acc: 0.9004 - val_loss: 0.3070 - val_acc: 0.9333\n",
      "Epoch 29/50\n",
      "2400/2400 [==============================] - 0s 58us/step - loss: 0.2697 - acc: 0.9025 - val_loss: 0.3028 - val_acc: 0.9467\n",
      "Epoch 30/50\n",
      "2400/2400 [==============================] - 0s 58us/step - loss: 0.2544 - acc: 0.9025 - val_loss: 0.7988 - val_acc: 0.9000\n",
      "Epoch 31/50\n",
      "2400/2400 [==============================] - 0s 63us/step - loss: 0.2627 - acc: 0.8996 - val_loss: 1.0620 - val_acc: 0.8883\n",
      "Epoch 32/50\n",
      "2400/2400 [==============================] - 0s 64us/step - loss: 0.3143 - acc: 0.8992 - val_loss: 0.2730 - val_acc: 0.9383\n",
      "Epoch 33/50\n",
      "2400/2400 [==============================] - 0s 61us/step - loss: 0.2678 - acc: 0.8925 - val_loss: 0.2877 - val_acc: 0.9533\n",
      "Epoch 34/50\n",
      "2400/2400 [==============================] - 0s 63us/step - loss: 0.2666 - acc: 0.8992 - val_loss: 0.4176 - val_acc: 0.9283\n",
      "Epoch 35/50\n",
      "2400/2400 [==============================] - 0s 65us/step - loss: 0.2294 - acc: 0.9133 - val_loss: 0.2307 - val_acc: 0.9383\n",
      "Epoch 36/50\n",
      "2400/2400 [==============================] - 0s 58us/step - loss: 0.2354 - acc: 0.9075 - val_loss: 0.3028 - val_acc: 0.9467\n",
      "Epoch 37/50\n",
      "2400/2400 [==============================] - 0s 57us/step - loss: 0.2167 - acc: 0.9096 - val_loss: 0.3307 - val_acc: 0.9417\n",
      "Epoch 38/50\n",
      "2400/2400 [==============================] - 0s 58us/step - loss: 0.2381 - acc: 0.9142 - val_loss: 0.2826 - val_acc: 0.9500\n",
      "Epoch 39/50\n",
      "2400/2400 [==============================] - 0s 57us/step - loss: 0.2490 - acc: 0.9129 - val_loss: 0.2717 - val_acc: 0.9533\n",
      "Epoch 40/50\n",
      "2400/2400 [==============================] - 0s 56us/step - loss: 0.2384 - acc: 0.9087 - val_loss: 0.2960 - val_acc: 0.9500\n",
      "Epoch 41/50\n",
      "2400/2400 [==============================] - 0s 64us/step - loss: 0.2330 - acc: 0.9067 - val_loss: 0.3165 - val_acc: 0.9450\n",
      "Epoch 42/50\n",
      "2400/2400 [==============================] - 0s 65us/step - loss: 0.2352 - acc: 0.9183 - val_loss: 0.3143 - val_acc: 0.9433\n",
      "Epoch 43/50\n",
      "2400/2400 [==============================] - 0s 58us/step - loss: 0.2015 - acc: 0.9279 - val_loss: 0.3742 - val_acc: 0.9517\n",
      "Epoch 44/50\n",
      "2400/2400 [==============================] - 0s 57us/step - loss: 0.2276 - acc: 0.9083 - val_loss: 0.3986 - val_acc: 0.9400\n",
      "Epoch 45/50\n",
      "2400/2400 [==============================] - 0s 57us/step - loss: 0.2015 - acc: 0.9204 - val_loss: 0.4364 - val_acc: 0.9350\n",
      "Epoch 46/50\n",
      "2400/2400 [==============================] - 0s 64us/step - loss: 0.2309 - acc: 0.9163 - val_loss: 0.3745 - val_acc: 0.9450\n",
      "Epoch 47/50\n",
      "2400/2400 [==============================] - 0s 63us/step - loss: 0.2244 - acc: 0.9200 - val_loss: 0.3666 - val_acc: 0.9483\n",
      "Epoch 48/50\n",
      "2400/2400 [==============================] - 0s 57us/step - loss: 0.2292 - acc: 0.9229 - val_loss: 0.3520 - val_acc: 0.9383\n",
      "Epoch 49/50\n",
      "2400/2400 [==============================] - 0s 63us/step - loss: 0.2175 - acc: 0.9179 - val_loss: 0.3682 - val_acc: 0.9367\n",
      "Epoch 50/50\n",
      "2400/2400 [==============================] - 0s 64us/step - loss: 0.2156 - acc: 0.9221 - val_loss: 0.3636 - val_acc: 0.9383\n",
      "Test loss: 0.36358415079613526\n",
      "Test accuracy: 0.9383333325386047\n"
     ]
    }
   ],
   "source": [
    "history = model.fit(x_train,\n",
    "                    Y_train,\n",
    "                    batch_size=batch_size,\n",
    "                    epochs=epochs,\n",
    "                    validation_data=(x_test, Y_test))\n",
    "\n",
    "model.save('trafficLight_classification2.h5')\n",
    "score = model.evaluate(x_test, Y_test, verbose=0)\n",
    "print('Test loss:', score[0])\n",
    "print('Test accuracy:', score[1])"
   ]
  },
  {
   "cell_type": "code",
   "execution_count": 28,
   "metadata": {},
   "outputs": [],
   "source": [
    "import matplotlib.pyplot as plt\n",
    "\n",
    "def plot_history_lost(hist):\n",
    "    plt.plot(hist.history['loss'], label='loss for training')\n",
    "    plt.plot(hist.history['val_loss'], label='loss for validation')\n",
    "    plt.title('model loss')\n",
    "    plt.xlabel('epoch')\n",
    "    plt.ylabel('loss')\n",
    "    plt.legend(loc='best')\n",
    "    plt.show()\n",
    "    \n",
    "def plot_history_acc(hist):\n",
    "    plt.plot(hist.history['acc'], label='accuracy for validation')\n",
    "    plt.plot(hist.history['val_acc'], label='accuracy for validation')\n",
    "    plt.title('model accuracy')\n",
    "    plt.xlabel('epoch')\n",
    "    plt.ylabel('acuuracy')\n",
    "    plt.ylim([0,1])\n",
    "    plt.show()"
   ]
  },
  {
   "cell_type": "code",
   "execution_count": 29,
   "metadata": {},
   "outputs": [
    {
     "data": {
      "image/png": "[encoded data removed]",
      "text/plain": [
       "<matplotlib.figure.Figure at 0x7f427c2782e8>"
      ]
     },
     "metadata": {},
     "output_type": "display_data"
    },
    {
     "data": {
      "image/png": "[encoded data removed]",
      "text/plain": [
       "<matplotlib.figure.Figure at 0x7f427c2782b0>"
      ]
     },
     "metadata": {},
     "output_type": "display_data"
    }
   ],
   "source": [
    "plot_history_lost(history)\n",
    "plot_history_acc(history)"
   ]
  },
  {
   "cell_type": "code",
   "execution_count": null,
   "metadata": {},
   "outputs": [],
   "source": []
  }
 ],
 "metadata": {
  "kernelspec": {
   "display_name": "Python 3",
   "language": "python",
   "name": "python3"
  },
  "language_info": {
   "codemirror_mode": {
    "name": "ipython",
    "version": 3
   },
   "file_extension": ".py",
   "mimetype": "text/x-python",
   "name": "python",
   "nbconvert_exporter": "python",
   "pygments_lexer": "ipython3",
   "version": "3.6.6"
  }
 },
 "nbformat": 4,
 "nbformat_minor": 2
}
