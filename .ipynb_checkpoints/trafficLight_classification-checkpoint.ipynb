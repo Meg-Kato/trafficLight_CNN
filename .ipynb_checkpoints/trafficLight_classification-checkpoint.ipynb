{
 "cells": [
  {
   "cell_type": "markdown",
   "metadata": {},
   "source": [
    "## preprocess"
   ]
  },
  {
   "cell_type": "code",
   "execution_count": 3,
   "metadata": {},
   "outputs": [],
   "source": [
    "import cv2\n",
    "import glob\n",
    "import re\n",
    "from PIL import Image\n",
    "import numpy as np"
   ]
  },
  {
   "cell_type": "code",
   "execution_count": 4,
   "metadata": {},
   "outputs": [],
   "source": [
    "def preprocess(img):\n",
    "    h, w, c = img.shape\n",
    "    longest_edge = max(h, w)\n",
    "    top = 0\n",
    "    bottom = 0\n",
    "    left = 0\n",
    "    right = 0\n",
    "    if h < longest_edge:\n",
    "        diff_h = longest_edge - h\n",
    "        top = diff_h // 2\n",
    "        bottom = diff_h - top\n",
    "    elif w < longest_edge:\n",
    "        diff_w = longest_edge - w\n",
    "        left = diff_w // 2\n",
    "        right = diff_w - left\n",
    "    else:\n",
    "        pass\n",
    "    \n",
    "    img = cv2.copyMakeBorder(img, top, bottom, left, right,\n",
    "                             cv2.BORDER_CONSTANT, value=[0, 0, 0])\n",
    "    return img"
   ]
  },
  {
   "cell_type": "code",
   "execution_count": 5,
   "metadata": {},
   "outputs": [],
   "source": [
    "def numericalSort(value):\n",
    "    numbers = re.compile(r'(\\d+)')\n",
    "    parts = numbers.split(value)\n",
    "    parts[1::2] = map(int, parts[1::2])\n",
    "    return parts\n",
    "\n",
    "def get_img_path(dir_name:str):\n",
    "    files = f\"{dir_name}/\"\n",
    "    img_path = sorted(glob.glob(str(files+\"*.jpg\")), key=numericalSort)\n",
    "    return img_path           "
   ]
  },
  {
   "cell_type": "code",
   "execution_count": 6,
   "metadata": {},
   "outputs": [],
   "source": [
    "img_path = get_img_path(\"../img_data/rectangle/trafficLightImg\")\n",
    "i=1\n",
    "for file in img_path:\n",
    "    img = cv2.imread(file)\n",
    "    img = preprocess(img)\n",
    "    img = cv2.resize(img, dsize=(30, 30))\n",
    "    cv2.imwrite(\"../img_data/rectangle/preprocessImg/\"+str(i)+\".jpg\", img)\n",
    "    i+=1"
   ]
  },
  {
   "cell_type": "code",
   "execution_count": null,
   "metadata": {},
   "outputs": [],
   "source": []
  },
  {
   "cell_type": "markdown",
   "metadata": {},
   "source": [
    "## dataset"
   ]
  },
  {
   "cell_type": "code",
   "execution_count": 7,
   "metadata": {},
   "outputs": [
    {
     "name": "stderr",
     "output_type": "stream",
     "text": [
      "Using TensorFlow backend.\n"
     ]
    }
   ],
   "source": [
    "import keras\n",
    "from keras.preprocessing.image import load_img, save_img, img_to_array, array_to_img\n",
    "from sklearn.model_selection import train_test_split\n",
    "import csv\n",
    "import pandas as pd"
   ]
  },
  {
   "cell_type": "code",
   "execution_count": 8,
   "metadata": {},
   "outputs": [],
   "source": [
    "preprocess_path = get_img_path(\"../img_data/rectangle/preprocessImg\")\n",
    "x_train_path, x_test_path = train_test_split(preprocess_path, test_size=0.2, shuffle=False)"
   ]
  },
  {
   "cell_type": "code",
   "execution_count": 9,
   "metadata": {},
   "outputs": [],
   "source": [
    "x_train = np.zeros((len(x_train_path),30*30*3))\n",
    "for i in range(len(x_train_path)):\n",
    "    x_train[i] = np.array(Image.open(x_train_path[i])).reshape(1, 30*30*3)\n",
    "x_train = x_train.reshape(len(x_train_path), 30, 30, 3)"
   ]
  },
  {
   "cell_type": "code",
   "execution_count": 10,
   "metadata": {},
   "outputs": [],
   "source": [
    "x_test= np.zeros((len(x_test_path),30*30*3))\n",
    "for i in range(len(x_test_path)):\n",
    "    x_test[i] = np.array(Image.open(x_test_path[i])).reshape(1, 30*30*3)\n",
    "x_test = x_test.reshape(len(x_test_path), 30, 30, 3)"
   ]
  },
  {
   "cell_type": "code",
   "execution_count": 11,
   "metadata": {},
   "outputs": [],
   "source": [
    "df = pd.read_csv(\"trafficLight_class.csv\", header=0, usecols=['label'])"
   ]
  },
  {
   "cell_type": "code",
   "execution_count": 12,
   "metadata": {},
   "outputs": [],
   "source": [
    "y_label = np.zeros(df.values.shape[0])\n",
    "for j in range(df.values.shape[0]):\n",
    "    y_label[j] = df.values[j]"
   ]
  },
  {
   "cell_type": "code",
   "execution_count": 13,
   "metadata": {},
   "outputs": [],
   "source": [
    "# label={0:red, 1:green, 2:car}\n",
    "y_train, y_test = train_test_split(y_label, test_size=0.2, shuffle=False)"
   ]
  },
  {
   "cell_type": "code",
   "execution_count": null,
   "metadata": {},
   "outputs": [],
   "source": []
  },
  {
   "cell_type": "markdown",
   "metadata": {},
   "source": [
    "## Augumentation"
   ]
  },
  {
   "cell_type": "code",
   "execution_count": 14,
   "metadata": {},
   "outputs": [],
   "source": [
    "from keras.preprocessing.image import ImageDataGenerator\n",
    "from keras.applications.inception_v3 import preprocess_input\n",
    "import os"
   ]
  },
  {
   "cell_type": "code",
   "execution_count": 15,
   "metadata": {},
   "outputs": [],
   "source": [
    "batch_size = 64\n",
    "num_classes = 3\n",
    "epochs = 20"
   ]
  },
  {
   "cell_type": "code",
   "execution_count": 16,
   "metadata": {},
   "outputs": [],
   "source": [
    "Y_train = keras.utils.to_categorical(y_train, num_classes)\n",
    "Y_test = keras.utils.to_categorical(y_test, num_classes)"
   ]
  },
  {
   "cell_type": "code",
   "execution_count": 17,
   "metadata": {},
   "outputs": [],
   "source": [
    "train_datagen = ImageDataGenerator(preprocessing_function=preprocess_input,\n",
    "                                   rotation_range=30,\n",
    "                                   width_shift_range=0.2,\n",
    "                                   height_shift_range=0.2,\n",
    "                                   zoom_range=0.2,\n",
    "                                   horizontal_flip=True)\n",
    "train_datagen.fit(x_train)\n",
    "train_generator = train_datagen.flow(x_train, Y_train, batch_size=batch_size)\n",
    "\n",
    "test_datagen = ImageDataGenerator(rescale=1./255)\n",
    "test_datagen.fit(x_test)\n",
    "validation_generator = test_datagen.flow(x_test,\n",
    "                                         Y_test,\n",
    "                                         batch_size=batch_size,)"
   ]
  },
  {
   "cell_type": "code",
   "execution_count": 18,
   "metadata": {},
   "outputs": [],
   "source": [
    "data_augumentaion = True\n",
    "num_predictions = 20\n",
    "save_dir  = os.path.join(os.getcwd(), 'save_models')\n",
    "model_name ='trafficLight_classification.h5'"
   ]
  },
  {
   "cell_type": "code",
   "execution_count": null,
   "metadata": {},
   "outputs": [],
   "source": []
  },
  {
   "cell_type": "markdown",
   "metadata": {},
   "source": [
    "## Convolution"
   ]
  },
  {
   "cell_type": "code",
   "execution_count": 19,
   "metadata": {},
   "outputs": [],
   "source": [
    "from keras import backend as K\n",
    "from keras.models import Sequential, Model\n",
    "from keras.layers import Conv2D, Activation, MaxPooling2D, Dense, Flatten, Dropout, BatchNormalization\n",
    "from keras.optimizers import rmsprop"
   ]
  },
  {
   "cell_type": "code",
   "execution_count": 20,
   "metadata": {},
   "outputs": [
    {
     "data": {
      "text/plain": [
       "(30, 30, 3)"
      ]
     },
     "execution_count": 20,
     "metadata": {},
     "output_type": "execute_result"
    }
   ],
   "source": [
    "x_train.shape[1:]"
   ]
  },
  {
   "cell_type": "code",
   "execution_count": 21,
   "metadata": {},
   "outputs": [],
   "source": [
    "model = Sequential()\n",
    "model.add(Conv2D(64, (4,4), padding='same', input_shape=x_train.shape[1:]))\n",
    "model.add(Activation('relu'))\n",
    "model.add(MaxPooling2D((2,2)))\n",
    "\n",
    "# model.add(Conv2D(64, (4,4), padding='same'))\n",
    "# model.add(Activation('relu'))\n",
    "# model.add(MaxPooling2D((2,2)))\n",
    "model.add(BatchNormalization())\n",
    "\n",
    "# model.add(Conv2D(128, (4,4), padding='same'))\n",
    "# model.add(Activation('relu'))\n",
    "# model.add(BatchNormalization())\n",
    "\n",
    "model.add(Flatten())\n",
    "model.add(Dense(32))\n",
    "model.add(Activation('relu'))\n",
    "model.add(Dropout(0.5))\n",
    "model.add(Dense(num_classes))\n",
    "model.add(Activation('softmax'))\n",
    "\n",
    "# opt = keras.optimizers.rmsprop(lr=0.0001, decay=1e-6)\n",
    "opt = keras.optimizers.rmsprop()\n",
    "model.compile(loss='categorical_crossentropy',\n",
    "              optimizer=opt,\n",
    "              metrics=['accuracy'])"
   ]
  },
  {
   "cell_type": "code",
   "execution_count": 22,
   "metadata": {},
   "outputs": [
    {
     "name": "stdout",
     "output_type": "stream",
     "text": [
      "Train on 184 samples, validate on 47 samples\n",
      "Epoch 1/20\n",
      "184/184 [==============================] - 1s 6ms/step - loss: 2.7803 - acc: 0.4185 - val_loss: 0.8263 - val_acc: 0.8085\n",
      "Epoch 2/20\n",
      "184/184 [==============================] - 0s 66us/step - loss: 1.8320 - acc: 0.6196 - val_loss: 0.5792 - val_acc: 0.8511\n",
      "Epoch 3/20\n",
      "184/184 [==============================] - 0s 54us/step - loss: 0.6722 - acc: 0.7880 - val_loss: 0.2533 - val_acc: 0.8936\n",
      "Epoch 4/20\n",
      "184/184 [==============================] - 0s 59us/step - loss: 0.3756 - acc: 0.8424 - val_loss: 0.2051 - val_acc: 0.9149\n",
      "Epoch 5/20\n",
      "184/184 [==============================] - 0s 57us/step - loss: 0.5156 - acc: 0.8043 - val_loss: 0.3351 - val_acc: 0.8511\n",
      "Epoch 6/20\n",
      "184/184 [==============================] - 0s 57us/step - loss: 0.2848 - acc: 0.8804 - val_loss: 0.1723 - val_acc: 0.9362\n",
      "Epoch 7/20\n",
      "184/184 [==============================] - 0s 61us/step - loss: 0.2090 - acc: 0.9022 - val_loss: 0.2449 - val_acc: 0.8936\n",
      "Epoch 8/20\n",
      "184/184 [==============================] - 0s 67us/step - loss: 0.2776 - acc: 0.8859 - val_loss: 0.1837 - val_acc: 0.9149\n",
      "Epoch 9/20\n",
      "184/184 [==============================] - 0s 53us/step - loss: 0.2188 - acc: 0.9076 - val_loss: 0.3903 - val_acc: 0.8298\n",
      "Epoch 10/20\n",
      "184/184 [==============================] - 0s 64us/step - loss: 0.2172 - acc: 0.9022 - val_loss: 0.1216 - val_acc: 0.9362\n",
      "Epoch 11/20\n",
      "184/184 [==============================] - 0s 66us/step - loss: 0.2925 - acc: 0.8859 - val_loss: 0.7501 - val_acc: 0.7660\n",
      "Epoch 12/20\n",
      "184/184 [==============================] - 0s 62us/step - loss: 0.2285 - acc: 0.8913 - val_loss: 0.3836 - val_acc: 0.8723\n",
      "Epoch 13/20\n",
      "184/184 [==============================] - 0s 56us/step - loss: 0.1525 - acc: 0.9239 - val_loss: 0.1673 - val_acc: 0.8723\n",
      "Epoch 14/20\n",
      "184/184 [==============================] - 0s 63us/step - loss: 0.1457 - acc: 0.9130 - val_loss: 0.1016 - val_acc: 0.9787\n",
      "Epoch 15/20\n",
      "184/184 [==============================] - 0s 59us/step - loss: 0.1023 - acc: 0.9511 - val_loss: 0.0640 - val_acc: 0.9787\n",
      "Epoch 16/20\n",
      "184/184 [==============================] - 0s 57us/step - loss: 0.1490 - acc: 0.9511 - val_loss: 0.0821 - val_acc: 0.9574\n",
      "Epoch 17/20\n",
      "184/184 [==============================] - 0s 60us/step - loss: 0.3136 - acc: 0.8967 - val_loss: 0.1389 - val_acc: 0.9362\n",
      "Epoch 18/20\n",
      "184/184 [==============================] - 0s 56us/step - loss: 0.2374 - acc: 0.9511 - val_loss: 0.2087 - val_acc: 0.8936\n",
      "Epoch 19/20\n",
      "184/184 [==============================] - 0s 55us/step - loss: 0.1899 - acc: 0.9402 - val_loss: 0.5103 - val_acc: 0.8723\n",
      "Epoch 20/20\n",
      "184/184 [==============================] - 0s 61us/step - loss: 0.2530 - acc: 0.9185 - val_loss: 0.1590 - val_acc: 0.9574\n",
      "Test loss: 0.15904768603913327\n",
      "Test accuracy: 0.9574468110470061\n"
     ]
    }
   ],
   "source": [
    "# history = model.fit_generator(train_generator,\n",
    "#                               steps_per_epoch=50,\n",
    "#                               epochs=epochs,\n",
    "#                               validation_data=validation_generator,\n",
    "#                               validation_steps=10)\n",
    "\n",
    "history = model.fit(x_train,\n",
    "                    Y_train,\n",
    "                    batch_size=batch_size,\n",
    "                    epochs=epochs,\n",
    "                    validation_data=(x_test, Y_test))\n",
    "\n",
    "model.save('trafficLight_classification.h5')\n",
    "score = model.evaluate(x_test, Y_test, verbose=0)\n",
    "print('Test loss:', score[0])\n",
    "print('Test accuracy:', score[1])"
   ]
  },
  {
   "cell_type": "code",
   "execution_count": 23,
   "metadata": {},
   "outputs": [],
   "source": [
    "import matplotlib.pyplot as plt"
   ]
  },
  {
   "cell_type": "code",
   "execution_count": 24,
   "metadata": {},
   "outputs": [],
   "source": [
    "def plot_history_lost(hist):\n",
    "    plt.plot(hist.history['loss'], label='loss for training')\n",
    "    plt.plot(hist.history['val_loss'], label='loss for validation')\n",
    "    plt.title('model loss')\n",
    "    plt.xlabel('epoch')\n",
    "    plt.ylabel('loss')\n",
    "    plt.legend(loc='best')\n",
    "    plt.show()\n",
    "    \n",
    "def plot_history_acc(hist):\n",
    "    plt.plot(hist.history['acc'], label='accuracy for validation')\n",
    "    plt.plot(hist.history['val_acc'], label='accuracy for validation')\n",
    "    plt.title('model accuracy')\n",
    "    plt.xlabel('epoch')\n",
    "    plt.ylabel('acuuracy')\n",
    "    plt.ylim([0,1])\n",
    "    plt.show()"
   ]
  },
  {
   "cell_type": "code",
   "execution_count": 25,
   "metadata": {},
   "outputs": [
    {
     "data": {
      "image/png": "[encoded data removed]",
      "text/plain": [
       "<matplotlib.figure.Figure at 0x7fab100f57f0>"
      ]
     },
     "metadata": {},
     "output_type": "display_data"
    },
    {
     "data": {
      "image/png": "[encoded data removed]",
      "text/plain": [
       "<matplotlib.figure.Figure at 0x7faad45a4cf8>"
      ]
     },
     "metadata": {},
     "output_type": "display_data"
    }
   ],
   "source": [
    "plot_history_lost(history)\n",
    "plot_history_acc(history)"
   ]
  },
  {
   "cell_type": "code",
   "execution_count": null,
   "metadata": {},
   "outputs": [],
   "source": []
  }
 ],
 "metadata": {
  "kernelspec": {
   "display_name": "Python 3",
   "language": "python",
   "name": "python3"
  },
  "language_info": {
   "codemirror_mode": {
    "name": "ipython",
    "version": 3
   },
   "file_extension": ".py",
   "mimetype": "text/x-python",
   "name": "python",
   "nbconvert_exporter": "python",
   "pygments_lexer": "ipython3",
   "version": "3.6.6"
  }
 },
 "nbformat": 4,
 "nbformat_minor": 2
}
