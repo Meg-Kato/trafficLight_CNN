{
 "cells": [
  {
   "cell_type": "code",
   "execution_count": 1,
   "metadata": {},
   "outputs": [],
   "source": [
    "import cv2\n",
    "import glob\n",
    "import re\n",
    "from PIL import Image\n",
    "import numpy as np"
   ]
  },
  {
   "cell_type": "code",
   "execution_count": 2,
   "metadata": {},
   "outputs": [],
   "source": [
    "def preprocess(img):\n",
    "    h, w, c = img.shape\n",
    "    longest_edge = max(h, w)\n",
    "    top = 0\n",
    "    bottom = 0\n",
    "    left = 0\n",
    "    right = 0\n",
    "    if h < longest_edge:\n",
    "        diff_h = longest_edge - h\n",
    "        top = diff_h // 2\n",
    "        bottom = diff_h - top\n",
    "    elif w < longest_edge:\n",
    "        diff_w = longest_edge - w\n",
    "        left = diff_w // 2\n",
    "        right = diff_w - left\n",
    "    else:\n",
    "        pass\n",
    "    \n",
    "    img = cv2.copyMakeBorder(img, top, bottom, left, right,\n",
    "                             cv2.BORDER_CONSTANT, value=[0, 0, 0])\n",
    "    return img\n",
    "\n",
    "def numericalSort(value):\n",
    "    numbers = re.compile(r'(\\d+)')\n",
    "    parts = numbers.split(value)\n",
    "    parts[1::2] = map(int, parts[1::2])\n",
    "    return parts\n",
    "\n",
    "def get_img_path(dir_name:str):\n",
    "    files = f\"{dir_name}/\"\n",
    "    img_path = sorted(glob.glob(str(files+\"*.jpg\")), key=numericalSort)\n",
    "    return img_path           "
   ]
  },
  {
   "cell_type": "code",
   "execution_count": 3,
   "metadata": {},
   "outputs": [],
   "source": [
    "img_path = get_img_path(\"../img_data/rectangle/trafficLightImg3\")\n",
    "i=1\n",
    "for file in img_path:\n",
    "    img = cv2.imread(file)\n",
    "    img = preprocess(img)\n",
    "    img = cv2.resize(img, dsize=(30, 30))\n",
    "    cv2.imwrite(\"../img_data/rectangle/preprocessImg3/\"+str(i)+\".jpg\", img)\n",
    "    i+=1"
   ]
  },
  {
   "cell_type": "code",
   "execution_count": null,
   "metadata": {},
   "outputs": [],
   "source": []
  },
  {
   "cell_type": "code",
   "execution_count": 4,
   "metadata": {},
   "outputs": [
    {
     "name": "stderr",
     "output_type": "stream",
     "text": [
      "Using TensorFlow backend.\n"
     ]
    }
   ],
   "source": [
    "import keras\n",
    "from keras.preprocessing.image import load_img, save_img, img_to_array, array_to_img\n",
    "from sklearn.model_selection import train_test_split\n",
    "import csv\n",
    "import pandas as pd"
   ]
  },
  {
   "cell_type": "code",
   "execution_count": 5,
   "metadata": {},
   "outputs": [],
   "source": [
    "preprocess_path = get_img_path(\"../img_data/rectangle/preprocessImg3\")\n",
    "x_train_path, x_test_path = train_test_split(preprocess_path, test_size=0.2, shuffle=False)"
   ]
  },
  {
   "cell_type": "code",
   "execution_count": 6,
   "metadata": {},
   "outputs": [
    {
     "ename": "FileNotFoundError",
     "evalue": "File b'trafficLight_class3.csv' does not exist",
     "output_type": "error",
     "traceback": [
      "\u001b[0;31m---------------------------------------------------------------------------\u001b[0m",
      "\u001b[0;31mFileNotFoundError\u001b[0m                         Traceback (most recent call last)",
      "\u001b[0;32m<ipython-input-6-57074dfaf4ac>\u001b[0m in \u001b[0;36m<module>\u001b[0;34m()\u001b[0m\n\u001b[1;32m      9\u001b[0m \u001b[0mx_test\u001b[0m \u001b[0;34m=\u001b[0m \u001b[0mx_test\u001b[0m\u001b[0;34m.\u001b[0m\u001b[0mreshape\u001b[0m\u001b[0;34m(\u001b[0m\u001b[0mlen\u001b[0m\u001b[0;34m(\u001b[0m\u001b[0mx_test_path\u001b[0m\u001b[0;34m)\u001b[0m\u001b[0;34m,\u001b[0m \u001b[0;36m30\u001b[0m\u001b[0;34m,\u001b[0m \u001b[0;36m30\u001b[0m\u001b[0;34m,\u001b[0m \u001b[0;36m3\u001b[0m\u001b[0;34m)\u001b[0m\u001b[0;34m\u001b[0m\u001b[0m\n\u001b[1;32m     10\u001b[0m \u001b[0;34m\u001b[0m\u001b[0m\n\u001b[0;32m---> 11\u001b[0;31m \u001b[0mdf\u001b[0m \u001b[0;34m=\u001b[0m \u001b[0mpd\u001b[0m\u001b[0;34m.\u001b[0m\u001b[0mread_csv\u001b[0m\u001b[0;34m(\u001b[0m\u001b[0;34m\"trafficLight_class3.csv\"\u001b[0m\u001b[0;34m,\u001b[0m \u001b[0mheader\u001b[0m\u001b[0;34m=\u001b[0m\u001b[0;36m0\u001b[0m\u001b[0;34m,\u001b[0m \u001b[0musecols\u001b[0m\u001b[0;34m=\u001b[0m\u001b[0;34m[\u001b[0m\u001b[0;34m'label'\u001b[0m\u001b[0;34m]\u001b[0m\u001b[0;34m)\u001b[0m\u001b[0;34m\u001b[0m\u001b[0m\n\u001b[0m\u001b[1;32m     12\u001b[0m \u001b[0;34m\u001b[0m\u001b[0m\n\u001b[1;32m     13\u001b[0m \u001b[0my_label\u001b[0m \u001b[0;34m=\u001b[0m \u001b[0mnp\u001b[0m\u001b[0;34m.\u001b[0m\u001b[0mzeros\u001b[0m\u001b[0;34m(\u001b[0m\u001b[0mdf\u001b[0m\u001b[0;34m.\u001b[0m\u001b[0mvalues\u001b[0m\u001b[0;34m.\u001b[0m\u001b[0mshape\u001b[0m\u001b[0;34m[\u001b[0m\u001b[0;36m0\u001b[0m\u001b[0;34m]\u001b[0m\u001b[0;34m)\u001b[0m\u001b[0;34m\u001b[0m\u001b[0m\n",
      "\u001b[0;32m~/.pyenv/versions/anaconda3-5.1.0/lib/python3.6/site-packages/pandas/io/parsers.py\u001b[0m in \u001b[0;36mparser_f\u001b[0;34m(filepath_or_buffer, sep, delimiter, header, names, index_col, usecols, squeeze, prefix, mangle_dupe_cols, dtype, engine, converters, true_values, false_values, skipinitialspace, skiprows, nrows, na_values, keep_default_na, na_filter, verbose, skip_blank_lines, parse_dates, infer_datetime_format, keep_date_col, date_parser, dayfirst, iterator, chunksize, compression, thousands, decimal, lineterminator, quotechar, quoting, escapechar, comment, encoding, dialect, tupleize_cols, error_bad_lines, warn_bad_lines, skipfooter, skip_footer, doublequote, delim_whitespace, as_recarray, compact_ints, use_unsigned, low_memory, buffer_lines, memory_map, float_precision)\u001b[0m\n\u001b[1;32m    707\u001b[0m                     skip_blank_lines=skip_blank_lines)\n\u001b[1;32m    708\u001b[0m \u001b[0;34m\u001b[0m\u001b[0m\n\u001b[0;32m--> 709\u001b[0;31m         \u001b[0;32mreturn\u001b[0m \u001b[0m_read\u001b[0m\u001b[0;34m(\u001b[0m\u001b[0mfilepath_or_buffer\u001b[0m\u001b[0;34m,\u001b[0m \u001b[0mkwds\u001b[0m\u001b[0;34m)\u001b[0m\u001b[0;34m\u001b[0m\u001b[0m\n\u001b[0m\u001b[1;32m    710\u001b[0m \u001b[0;34m\u001b[0m\u001b[0m\n\u001b[1;32m    711\u001b[0m     \u001b[0mparser_f\u001b[0m\u001b[0;34m.\u001b[0m\u001b[0m__name__\u001b[0m \u001b[0;34m=\u001b[0m \u001b[0mname\u001b[0m\u001b[0;34m\u001b[0m\u001b[0m\n",
      "\u001b[0;32m~/.pyenv/versions/anaconda3-5.1.0/lib/python3.6/site-packages/pandas/io/parsers.py\u001b[0m in \u001b[0;36m_read\u001b[0;34m(filepath_or_buffer, kwds)\u001b[0m\n\u001b[1;32m    447\u001b[0m \u001b[0;34m\u001b[0m\u001b[0m\n\u001b[1;32m    448\u001b[0m     \u001b[0;31m# Create the parser.\u001b[0m\u001b[0;34m\u001b[0m\u001b[0;34m\u001b[0m\u001b[0m\n\u001b[0;32m--> 449\u001b[0;31m     \u001b[0mparser\u001b[0m \u001b[0;34m=\u001b[0m \u001b[0mTextFileReader\u001b[0m\u001b[0;34m(\u001b[0m\u001b[0mfilepath_or_buffer\u001b[0m\u001b[0;34m,\u001b[0m \u001b[0;34m**\u001b[0m\u001b[0mkwds\u001b[0m\u001b[0;34m)\u001b[0m\u001b[0;34m\u001b[0m\u001b[0m\n\u001b[0m\u001b[1;32m    450\u001b[0m \u001b[0;34m\u001b[0m\u001b[0m\n\u001b[1;32m    451\u001b[0m     \u001b[0;32mif\u001b[0m \u001b[0mchunksize\u001b[0m \u001b[0;32mor\u001b[0m \u001b[0miterator\u001b[0m\u001b[0;34m:\u001b[0m\u001b[0;34m\u001b[0m\u001b[0m\n",
      "\u001b[0;32m~/.pyenv/versions/anaconda3-5.1.0/lib/python3.6/site-packages/pandas/io/parsers.py\u001b[0m in \u001b[0;36m__init__\u001b[0;34m(self, f, engine, **kwds)\u001b[0m\n\u001b[1;32m    816\u001b[0m             \u001b[0mself\u001b[0m\u001b[0;34m.\u001b[0m\u001b[0moptions\u001b[0m\u001b[0;34m[\u001b[0m\u001b[0;34m'has_index_names'\u001b[0m\u001b[0;34m]\u001b[0m \u001b[0;34m=\u001b[0m \u001b[0mkwds\u001b[0m\u001b[0;34m[\u001b[0m\u001b[0;34m'has_index_names'\u001b[0m\u001b[0;34m]\u001b[0m\u001b[0;34m\u001b[0m\u001b[0m\n\u001b[1;32m    817\u001b[0m \u001b[0;34m\u001b[0m\u001b[0m\n\u001b[0;32m--> 818\u001b[0;31m         \u001b[0mself\u001b[0m\u001b[0;34m.\u001b[0m\u001b[0m_make_engine\u001b[0m\u001b[0;34m(\u001b[0m\u001b[0mself\u001b[0m\u001b[0;34m.\u001b[0m\u001b[0mengine\u001b[0m\u001b[0;34m)\u001b[0m\u001b[0;34m\u001b[0m\u001b[0m\n\u001b[0m\u001b[1;32m    819\u001b[0m \u001b[0;34m\u001b[0m\u001b[0m\n\u001b[1;32m    820\u001b[0m     \u001b[0;32mdef\u001b[0m \u001b[0mclose\u001b[0m\u001b[0;34m(\u001b[0m\u001b[0mself\u001b[0m\u001b[0;34m)\u001b[0m\u001b[0;34m:\u001b[0m\u001b[0;34m\u001b[0m\u001b[0m\n",
      "\u001b[0;32m~/.pyenv/versions/anaconda3-5.1.0/lib/python3.6/site-packages/pandas/io/parsers.py\u001b[0m in \u001b[0;36m_make_engine\u001b[0;34m(self, engine)\u001b[0m\n\u001b[1;32m   1047\u001b[0m     \u001b[0;32mdef\u001b[0m \u001b[0m_make_engine\u001b[0m\u001b[0;34m(\u001b[0m\u001b[0mself\u001b[0m\u001b[0;34m,\u001b[0m \u001b[0mengine\u001b[0m\u001b[0;34m=\u001b[0m\u001b[0;34m'c'\u001b[0m\u001b[0;34m)\u001b[0m\u001b[0;34m:\u001b[0m\u001b[0;34m\u001b[0m\u001b[0m\n\u001b[1;32m   1048\u001b[0m         \u001b[0;32mif\u001b[0m \u001b[0mengine\u001b[0m \u001b[0;34m==\u001b[0m \u001b[0;34m'c'\u001b[0m\u001b[0;34m:\u001b[0m\u001b[0;34m\u001b[0m\u001b[0m\n\u001b[0;32m-> 1049\u001b[0;31m             \u001b[0mself\u001b[0m\u001b[0;34m.\u001b[0m\u001b[0m_engine\u001b[0m \u001b[0;34m=\u001b[0m \u001b[0mCParserWrapper\u001b[0m\u001b[0;34m(\u001b[0m\u001b[0mself\u001b[0m\u001b[0;34m.\u001b[0m\u001b[0mf\u001b[0m\u001b[0;34m,\u001b[0m \u001b[0;34m**\u001b[0m\u001b[0mself\u001b[0m\u001b[0;34m.\u001b[0m\u001b[0moptions\u001b[0m\u001b[0;34m)\u001b[0m\u001b[0;34m\u001b[0m\u001b[0m\n\u001b[0m\u001b[1;32m   1050\u001b[0m         \u001b[0;32melse\u001b[0m\u001b[0;34m:\u001b[0m\u001b[0;34m\u001b[0m\u001b[0m\n\u001b[1;32m   1051\u001b[0m             \u001b[0;32mif\u001b[0m \u001b[0mengine\u001b[0m \u001b[0;34m==\u001b[0m \u001b[0;34m'python'\u001b[0m\u001b[0;34m:\u001b[0m\u001b[0;34m\u001b[0m\u001b[0m\n",
      "\u001b[0;32m~/.pyenv/versions/anaconda3-5.1.0/lib/python3.6/site-packages/pandas/io/parsers.py\u001b[0m in \u001b[0;36m__init__\u001b[0;34m(self, src, **kwds)\u001b[0m\n\u001b[1;32m   1693\u001b[0m         \u001b[0mkwds\u001b[0m\u001b[0;34m[\u001b[0m\u001b[0;34m'allow_leading_cols'\u001b[0m\u001b[0;34m]\u001b[0m \u001b[0;34m=\u001b[0m \u001b[0mself\u001b[0m\u001b[0;34m.\u001b[0m\u001b[0mindex_col\u001b[0m \u001b[0;32mis\u001b[0m \u001b[0;32mnot\u001b[0m \u001b[0;32mFalse\u001b[0m\u001b[0;34m\u001b[0m\u001b[0m\n\u001b[1;32m   1694\u001b[0m \u001b[0;34m\u001b[0m\u001b[0m\n\u001b[0;32m-> 1695\u001b[0;31m         \u001b[0mself\u001b[0m\u001b[0;34m.\u001b[0m\u001b[0m_reader\u001b[0m \u001b[0;34m=\u001b[0m \u001b[0mparsers\u001b[0m\u001b[0;34m.\u001b[0m\u001b[0mTextReader\u001b[0m\u001b[0;34m(\u001b[0m\u001b[0msrc\u001b[0m\u001b[0;34m,\u001b[0m \u001b[0;34m**\u001b[0m\u001b[0mkwds\u001b[0m\u001b[0;34m)\u001b[0m\u001b[0;34m\u001b[0m\u001b[0m\n\u001b[0m\u001b[1;32m   1696\u001b[0m \u001b[0;34m\u001b[0m\u001b[0m\n\u001b[1;32m   1697\u001b[0m         \u001b[0;31m# XXX\u001b[0m\u001b[0;34m\u001b[0m\u001b[0;34m\u001b[0m\u001b[0m\n",
      "\u001b[0;32mpandas/_libs/parsers.pyx\u001b[0m in \u001b[0;36mpandas._libs.parsers.TextReader.__cinit__\u001b[0;34m()\u001b[0m\n",
      "\u001b[0;32mpandas/_libs/parsers.pyx\u001b[0m in \u001b[0;36mpandas._libs.parsers.TextReader._setup_parser_source\u001b[0;34m()\u001b[0m\n",
      "\u001b[0;31mFileNotFoundError\u001b[0m: File b'trafficLight_class3.csv' does not exist"
     ]
    }
   ],
   "source": [
    "x_train = np.zeros((len(x_train_path),30*30*3))\n",
    "for i in range(len(x_train_path)):\n",
    "    x_train[i] = np.array(Image.open(x_train_path[i])).reshape(1, 30*30*3)\n",
    "x_train = x_train.reshape(len(x_train_path), 30, 30, 3)\n",
    "\n",
    "x_test= np.zeros((len(x_test_path),30*30*3))\n",
    "for i in range(len(x_test_path)):\n",
    "    x_test[i] = np.array(Image.open(x_test_path[i])).reshape(1, 30*30*3)\n",
    "x_test = x_test.reshape(len(x_test_path), 30, 30, 3)\n",
    "\n",
    "df = pd.read_csv(\"trafficLight_class3.csv\", header=0, usecols=['label'])\n",
    "\n",
    "y_label = np.zeros(df.values.shape[0])\n",
    "for j in range(df.values.shape[0]):\n",
    "    y_label[j] = df.values[j]\n",
    "\n",
    "# label={0:green, 1:red, 2:car, 3:others}\n",
    "y_train, y_test = train_test_split(y_label, test_size=0.2, shuffle=False)"
   ]
  },
  {
   "cell_type": "code",
   "execution_count": null,
   "metadata": {},
   "outputs": [],
   "source": []
  },
  {
   "cell_type": "code",
   "execution_count": 7,
   "metadata": {},
   "outputs": [],
   "source": [
    "from keras.preprocessing.image import ImageDataGenerator\n",
    "from keras.applications.inception_v3 import preprocess_input\n",
    "import os"
   ]
  },
  {
   "cell_type": "code",
   "execution_count": 8,
   "metadata": {},
   "outputs": [],
   "source": [
    "batch_size = 64\n",
    "num_classes = 4\n",
    "epochs = 40"
   ]
  },
  {
   "cell_type": "code",
   "execution_count": 9,
   "metadata": {},
   "outputs": [],
   "source": [
    "Y_train = keras.utils.to_categorical(y_train, num_classes)\n",
    "Y_test = keras.utils.to_categorical(y_test, num_classes)\n",
    "\n",
    "train_datagen = ImageDataGenerator(preprocessing_function=preprocess_input,\n",
    "                                   rotation_range=30,\n",
    "                                   width_shift_range=0.2,\n",
    "                                   height_shift_range=0.2,\n",
    "                                   zoom_range=0.2,\n",
    "                                   horizontal_flip=True)\n",
    "train_datagen.fit(x_train)\n",
    "train_generator = train_datagen.flow(x_train, Y_train, batch_size=batch_size)\n",
    "\n",
    "test_datagen = ImageDataGenerator(rescale=1./255)\n",
    "test_datagen.fit(x_test)\n",
    "validation_generator = test_datagen.flow(x_test,\n",
    "                                         Y_test,\n",
    "                                         batch_size=batch_size,)\n",
    "\n",
    "data_augumentaion = True\n",
    "num_predictions = 20\n",
    "save_dir  = os.path.join(os.getcwd(), 'save_models')\n",
    "model_name ='trafficLight_classification2.h5'"
   ]
  },
  {
   "cell_type": "code",
   "execution_count": null,
   "metadata": {},
   "outputs": [],
   "source": []
  },
  {
   "cell_type": "code",
   "execution_count": 10,
   "metadata": {},
   "outputs": [],
   "source": [
    "from keras import backend as K\n",
    "from keras.models import Sequential, Model\n",
    "from keras.layers import Conv2D, Activation, MaxPooling2D, Dense, Flatten, Dropout, BatchNormalization\n",
    "from keras.optimizers import rmsprop"
   ]
  },
  {
   "cell_type": "code",
   "execution_count": 11,
   "metadata": {},
   "outputs": [],
   "source": [
    "model = Sequential()\n",
    "model.add(Conv2D(64, (4,4), padding='same', input_shape=x_train.shape[1:]))\n",
    "model.add(Activation('relu'))\n",
    "model.add(MaxPooling2D((2,2)))\n",
    "\n",
    "# model.add(Conv2D(64, (4,4), padding='same'))\n",
    "# model.add(Activation('relu'))\n",
    "# model.add(MaxPooling2D((2,2)))\n",
    "model.add(BatchNormalization())\n",
    "\n",
    "# model.add(Conv2D(128, (4,4), padding='same'))\n",
    "# model.add(Activation('relu'))\n",
    "# model.add(BatchNormalization())\n",
    "\n",
    "model.add(Flatten())\n",
    "model.add(Dense(32))\n",
    "model.add(Activation('relu'))\n",
    "model.add(Dropout(0.5))\n",
    "model.add(Dense(num_classes))\n",
    "model.add(Activation('softmax'))\n",
    "\n",
    "# opt = keras.optimizers.rmsprop(lr=0.0001, decay=1e-6)\n",
    "opt = keras.optimizers.rmsprop()\n",
    "model.compile(loss='categorical_crossentropy',\n",
    "              optimizer=opt,\n",
    "              metrics=['accuracy'])"
   ]
  },
  {
   "cell_type": "code",
   "execution_count": 12,
   "metadata": {},
   "outputs": [
    {
     "name": "stdout",
     "output_type": "stream",
     "text": [
      "Train on 400 samples, validate on 100 samples\n",
      "Epoch 1/40\n",
      "400/400 [==============================] - 1s 3ms/step - loss: 3.4343 - acc: 0.4875 - val_loss: 1.0341 - val_acc: 0.6000\n",
      "Epoch 2/40\n",
      "400/400 [==============================] - 0s 62us/step - loss: 1.1468 - acc: 0.5850 - val_loss: 1.3943 - val_acc: 0.6200\n",
      "Epoch 3/40\n",
      "400/400 [==============================] - 0s 60us/step - loss: 1.1583 - acc: 0.6350 - val_loss: 0.6729 - val_acc: 0.7100\n",
      "Epoch 4/40\n",
      "400/400 [==============================] - 0s 63us/step - loss: 0.7254 - acc: 0.7200 - val_loss: 0.8541 - val_acc: 0.7600\n",
      "Epoch 5/40\n",
      "400/400 [==============================] - 0s 55us/step - loss: 0.6870 - acc: 0.7350 - val_loss: 0.5729 - val_acc: 0.7900\n",
      "Epoch 6/40\n",
      "400/400 [==============================] - 0s 67us/step - loss: 0.6102 - acc: 0.7625 - val_loss: 0.7180 - val_acc: 0.7300\n",
      "Epoch 7/40\n",
      "400/400 [==============================] - 0s 55us/step - loss: 0.7649 - acc: 0.7050 - val_loss: 0.6080 - val_acc: 0.7800\n",
      "Epoch 8/40\n",
      "400/400 [==============================] - 0s 59us/step - loss: 0.5871 - acc: 0.7475 - val_loss: 0.5631 - val_acc: 0.8000\n",
      "Epoch 9/40\n",
      "400/400 [==============================] - 0s 68us/step - loss: 0.5360 - acc: 0.7925 - val_loss: 0.4708 - val_acc: 0.7900\n",
      "Epoch 10/40\n",
      "400/400 [==============================] - 0s 61us/step - loss: 0.4306 - acc: 0.8375 - val_loss: 0.6430 - val_acc: 0.8000\n",
      "Epoch 11/40\n",
      "400/400 [==============================] - 0s 67us/step - loss: 0.4690 - acc: 0.8050 - val_loss: 0.7900 - val_acc: 0.7800\n",
      "Epoch 12/40\n",
      "400/400 [==============================] - 0s 56us/step - loss: 0.4639 - acc: 0.8075 - val_loss: 1.3728 - val_acc: 0.6400\n",
      "Epoch 13/40\n",
      "400/400 [==============================] - 0s 60us/step - loss: 0.4412 - acc: 0.8125 - val_loss: 1.5642 - val_acc: 0.7400\n",
      "Epoch 14/40\n",
      "400/400 [==============================] - 0s 56us/step - loss: 0.4037 - acc: 0.8150 - val_loss: 1.1421 - val_acc: 0.7300\n",
      "Epoch 15/40\n",
      "400/400 [==============================] - 0s 62us/step - loss: 0.4291 - acc: 0.8450 - val_loss: 0.6703 - val_acc: 0.8400\n",
      "Epoch 16/40\n",
      "400/400 [==============================] - 0s 57us/step - loss: 0.4651 - acc: 0.8250 - val_loss: 0.5062 - val_acc: 0.7800\n",
      "Epoch 17/40\n",
      "400/400 [==============================] - 0s 62us/step - loss: 0.3456 - acc: 0.8650 - val_loss: 0.4580 - val_acc: 0.8000\n",
      "Epoch 18/40\n",
      "400/400 [==============================] - 0s 57us/step - loss: 0.3967 - acc: 0.8525 - val_loss: 0.5715 - val_acc: 0.7700\n",
      "Epoch 19/40\n",
      "400/400 [==============================] - 0s 59us/step - loss: 0.3832 - acc: 0.8450 - val_loss: 0.3527 - val_acc: 0.8600\n",
      "Epoch 20/40\n",
      "400/400 [==============================] - 0s 59us/step - loss: 0.3192 - acc: 0.8500 - val_loss: 0.4480 - val_acc: 0.8500\n",
      "Epoch 21/40\n",
      "400/400 [==============================] - 0s 52us/step - loss: 0.3093 - acc: 0.8400 - val_loss: 0.5859 - val_acc: 0.8300\n",
      "Epoch 22/40\n",
      "400/400 [==============================] - 0s 63us/step - loss: 0.2913 - acc: 0.8675 - val_loss: 0.5243 - val_acc: 0.8500\n",
      "Epoch 23/40\n",
      "400/400 [==============================] - 0s 58us/step - loss: 0.2849 - acc: 0.8675 - val_loss: 0.3922 - val_acc: 0.8200\n",
      "Epoch 24/40\n",
      "400/400 [==============================] - 0s 64us/step - loss: 0.3277 - acc: 0.8500 - val_loss: 0.7596 - val_acc: 0.7000\n",
      "Epoch 25/40\n",
      "400/400 [==============================] - 0s 67us/step - loss: 0.2904 - acc: 0.8700 - val_loss: 0.4761 - val_acc: 0.8300\n",
      "Epoch 26/40\n",
      "400/400 [==============================] - 0s 61us/step - loss: 0.3204 - acc: 0.8400 - val_loss: 0.5052 - val_acc: 0.8500\n",
      "Epoch 27/40\n",
      "400/400 [==============================] - 0s 56us/step - loss: 0.3197 - acc: 0.8725 - val_loss: 0.3759 - val_acc: 0.8500\n",
      "Epoch 28/40\n",
      "400/400 [==============================] - 0s 62us/step - loss: 0.2281 - acc: 0.8900 - val_loss: 0.3000 - val_acc: 0.9000\n",
      "Epoch 29/40\n",
      "400/400 [==============================] - 0s 55us/step - loss: 0.2053 - acc: 0.8975 - val_loss: 0.4469 - val_acc: 0.8300\n",
      "Epoch 30/40\n",
      "400/400 [==============================] - 0s 59us/step - loss: 0.2983 - acc: 0.8775 - val_loss: 1.0164 - val_acc: 0.8400\n",
      "Epoch 31/40\n",
      "400/400 [==============================] - 0s 60us/step - loss: 0.2903 - acc: 0.8775 - val_loss: 0.4528 - val_acc: 0.9000\n",
      "Epoch 32/40\n",
      "400/400 [==============================] - 0s 57us/step - loss: 0.1841 - acc: 0.9025 - val_loss: 0.8610 - val_acc: 0.8300\n",
      "Epoch 33/40\n",
      "400/400 [==============================] - 0s 62us/step - loss: 0.3127 - acc: 0.8950 - val_loss: 0.5222 - val_acc: 0.8300\n",
      "Epoch 34/40\n",
      "400/400 [==============================] - 0s 57us/step - loss: 0.2316 - acc: 0.8950 - val_loss: 0.3784 - val_acc: 0.8800\n",
      "Epoch 35/40\n",
      "400/400 [==============================] - 0s 62us/step - loss: 0.1480 - acc: 0.9375 - val_loss: 0.4757 - val_acc: 0.8700\n",
      "Epoch 36/40\n",
      "400/400 [==============================] - 0s 57us/step - loss: 0.2489 - acc: 0.9050 - val_loss: 0.4842 - val_acc: 0.8700\n",
      "Epoch 37/40\n",
      "400/400 [==============================] - 0s 63us/step - loss: 0.1772 - acc: 0.9350 - val_loss: 0.7884 - val_acc: 0.8500\n",
      "Epoch 38/40\n",
      "400/400 [==============================] - 0s 56us/step - loss: 0.2011 - acc: 0.9200 - val_loss: 0.3759 - val_acc: 0.8700\n",
      "Epoch 39/40\n",
      "400/400 [==============================] - 0s 62us/step - loss: 0.1820 - acc: 0.9250 - val_loss: 0.5569 - val_acc: 0.8800\n",
      "Epoch 40/40\n",
      "400/400 [==============================] - 0s 56us/step - loss: 0.2173 - acc: 0.9025 - val_loss: 0.4277 - val_acc: 0.8700\n",
      "Test loss: 0.42772985458374024\n",
      "Test accuracy: 0.87\n"
     ]
    }
   ],
   "source": [
    "history = model.fit(x_train,\n",
    "                    Y_train,\n",
    "                    batch_size=batch_size,\n",
    "                    epochs=epochs,\n",
    "                    validation_data=(x_test, Y_test))\n",
    "\n",
    "model.save('trafficLight_classification2.h5')\n",
    "score = model.evaluate(x_test, Y_test, verbose=0)\n",
    "print('Test loss:', score[0])\n",
    "print('Test accuracy:', score[1])"
   ]
  },
  {
   "cell_type": "code",
   "execution_count": 13,
   "metadata": {},
   "outputs": [],
   "source": [
    "import matplotlib.pyplot as plt\n",
    "\n",
    "def plot_history_lost(hist):\n",
    "    plt.plot(hist.history['loss'], label='loss for training')\n",
    "    plt.plot(hist.history['val_loss'], label='loss for validation')\n",
    "    plt.title('model loss')\n",
    "    plt.xlabel('epoch')\n",
    "    plt.ylabel('loss')\n",
    "    plt.legend(loc='best')\n",
    "    plt.show()\n",
    "    \n",
    "def plot_history_acc(hist):\n",
    "    plt.plot(hist.history['acc'], label='accuracy for validation')\n",
    "    plt.plot(hist.history['val_acc'], label='accuracy for validation')\n",
    "    plt.title('model accuracy')\n",
    "    plt.xlabel('epoch')\n",
    "    plt.ylabel('acuuracy')\n",
    "    plt.ylim([0,1])\n",
    "    plt.show()"
   ]
  },
  {
   "cell_type": "code",
   "execution_count": 14,
   "metadata": {},
   "outputs": [
    {
     "data": {
      "image/png": "[encoded data removed]",
      "text/plain": [
       "<matplotlib.figure.Figure at 0x7fd7b1bc20f0>"
      ]
     },
     "metadata": {},
     "output_type": "display_data"
    },
    {
     "data": {
      "image/png": "[encoded data removed]",
      "text/plain": [
       "<matplotlib.figure.Figure at 0x7fd760109518>"
      ]
     },
     "metadata": {},
     "output_type": "display_data"
    }
   ],
   "source": [
    "plot_history_lost(history)\n",
    "plot_history_acc(history)"
   ]
  },
  {
   "cell_type": "code",
   "execution_count": null,
   "metadata": {},
   "outputs": [],
   "source": []
  }
 ],
 "metadata": {
  "kernelspec": {
   "display_name": "Python 3",
   "language": "python",
   "name": "python3"
  },
  "language_info": {
   "codemirror_mode": {
    "name": "ipython",
    "version": 3
   },
   "file_extension": ".py",
   "mimetype": "text/x-python",
   "name": "python",
   "nbconvert_exporter": "python",
   "pygments_lexer": "ipython3",
   "version": "3.6.6"
  }
 },
 "nbformat": 4,
 "nbformat_minor": 2
}
